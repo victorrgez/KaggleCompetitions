{
 "cells": [
  {
   "cell_type": "code",
   "execution_count": 1,
   "metadata": {
    "_cell_guid": "b1076dfc-b9ad-4769-8c92-a6c4dae69d19",
    "_uuid": "8f2839f25d086af736a60e9eeb907d3b93b6e0e5"
   },
   "outputs": [],
   "source": [
    "import numpy as np # linear algebra\n",
    "import pandas as pd # data processing, CSV file I/O (e.g. pd.read_csv)\n",
    "import matplotlib.pyplot as plt\n",
    "from random import randint\n",
    "from tensorflow import keras"
   ]
  },
  {
   "cell_type": "code",
   "execution_count": 2,
   "metadata": {},
   "outputs": [
    {
     "name": "stdout",
     "output_type": "stream",
     "text": [
      "(42000, 784)\n",
      "(28000, 784)\n"
     ]
    }
   ],
   "source": [
    "X = pd.read_csv(\"/kaggle/input/digit-recognizer/train.csv\")\n",
    "test_data  = pd.read_csv(\"/kaggle/input/digit-recognizer/test.csv\")\n",
    "Y          = X[\"label\"]\n",
    "#print (train_data.shape)\n",
    "X = X.drop(\"label\", axis=1)\n",
    "\n",
    "print (X.shape)\n",
    "print (test_data.shape)"
   ]
  },
  {
   "cell_type": "code",
   "execution_count": 3,
   "metadata": {},
   "outputs": [
    {
     "name": "stderr",
     "output_type": "stream",
     "text": [
      "Using TensorFlow backend.\n"
     ]
    }
   ],
   "source": [
    "cuttingNumber = 37000\n",
    "\n",
    "X         = np.array(X)\n",
    "Y         = np.array(Y)\n",
    "test_data = np.array(test_data)\n",
    "\n",
    "train_data = X[:cuttingNumber]\n",
    "Y_train    = Y[:cuttingNumber]\n",
    "val_data   = X[cuttingNumber:]\n",
    "Y_val      = Y[cuttingNumber:]\n",
    "\n",
    "train_data = train_data.reshape((-1,28,28,1))\n",
    "val_data   = val_data.reshape((-1,28,28,1))\n",
    "test_data  = test_data.reshape((-1,28,28,1))\n",
    "\n",
    "from keras.utils import to_categorical\n",
    "Y_train = to_categorical(Y_train)\n",
    "Y_val   = to_categorical(Y_val)"
   ]
  },
  {
   "cell_type": "code",
   "execution_count": 4,
   "metadata": {},
   "outputs": [
    {
     "name": "stdout",
     "output_type": "stream",
     "text": [
      "(37000, 28, 28, 1)\n",
      "(5000, 28, 28, 1)\n",
      "(37000, 10)\n",
      "(5000, 10)\n",
      "(28000, 28, 28, 1)\n"
     ]
    }
   ],
   "source": [
    "print (train_data.shape)\n",
    "print (val_data.shape)\n",
    "print (Y_train.shape)\n",
    "print (Y_val.shape)\n",
    "print (test_data.shape)"
   ]
  },
  {
   "cell_type": "code",
   "execution_count": 5,
   "metadata": {},
   "outputs": [
    {
     "data": {
      "text/plain": [
       "'\\nrandomIndexes = [randint(0,5000) for i in range(3)]\\nfig, axs = plt.subplots(3,3,sharex=\"all\", sharey=\"all\")\\naxs[0][0].set_xticks([])\\naxs[0][0].set_yticks([])\\nfor i, j in enumerate(randomIndexes):\\n    if (i==0):\\n        axs[i][0].title.set_text(\"Training Data\")\\n        axs[i][1].title.set_text(\"Validation Data\")\\n        axs[i][2].title.set_text(\"Test Data\")\\n    axs[i][0].imshow(train_data[j], cmap=\"binary\")\\n    axs[i][1].imshow(val_data[j], cmap=\"binary\")\\n    axs[i][2].imshow(test_data[j], cmap=\"binary\")\\n'"
      ]
     },
     "execution_count": 5,
     "metadata": {},
     "output_type": "execute_result"
    }
   ],
   "source": [
    "\"\"\"\n",
    "randomIndexes = [randint(0,5000) for i in range(3)]\n",
    "fig, axs = plt.subplots(3,3,sharex=\"all\", sharey=\"all\")\n",
    "axs[0][0].set_xticks([])\n",
    "axs[0][0].set_yticks([])\n",
    "for i, j in enumerate(randomIndexes):\n",
    "    if (i==0):\n",
    "        axs[i][0].title.set_text(\"Training Data\")\n",
    "        axs[i][1].title.set_text(\"Validation Data\")\n",
    "        axs[i][2].title.set_text(\"Test Data\")\n",
    "    axs[i][0].imshow(train_data[j], cmap=\"binary\")\n",
    "    axs[i][1].imshow(val_data[j], cmap=\"binary\")\n",
    "    axs[i][2].imshow(test_data[j], cmap=\"binary\")\n",
    "\"\"\""
   ]
  },
  {
   "cell_type": "code",
   "execution_count": 6,
   "metadata": {},
   "outputs": [
    {
     "name": "stdout",
     "output_type": "stream",
     "text": [
      "Train on 37000 samples, validate on 5000 samples\n",
      "Epoch 1/15\n",
      "37000/37000 [==============================] - 9s 233us/sample - loss: 0.5323 - accuracy: 0.9045 - val_loss: 0.1533 - val_accuracy: 0.9528\n",
      "Epoch 2/15\n",
      "37000/37000 [==============================] - 4s 118us/sample - loss: 0.1037 - accuracy: 0.9686 - val_loss: 0.1135 - val_accuracy: 0.9670\n",
      "Epoch 3/15\n",
      "37000/37000 [==============================] - 5s 123us/sample - loss: 0.0722 - accuracy: 0.9776 - val_loss: 0.1255 - val_accuracy: 0.9638\n",
      "Epoch 4/15\n",
      "37000/37000 [==============================] - 4s 121us/sample - loss: 0.0596 - accuracy: 0.9810 - val_loss: 0.1038 - val_accuracy: 0.9700\n",
      "Epoch 5/15\n",
      "37000/37000 [==============================] - 5s 136us/sample - loss: 0.0542 - accuracy: 0.9837 - val_loss: 0.0808 - val_accuracy: 0.9766\n",
      "Epoch 6/15\n",
      "37000/37000 [==============================] - 5s 139us/sample - loss: 0.0382 - accuracy: 0.9883 - val_loss: 0.0983 - val_accuracy: 0.9752\n",
      "Epoch 7/15\n",
      "37000/37000 [==============================] - 5s 135us/sample - loss: 0.0452 - accuracy: 0.9865 - val_loss: 0.1054 - val_accuracy: 0.9740\n",
      "Epoch 8/15\n",
      "37000/37000 [==============================] - 5s 122us/sample - loss: 0.0402 - accuracy: 0.9881 - val_loss: 0.0970 - val_accuracy: 0.9764\n",
      "Epoch 9/15\n",
      "37000/37000 [==============================] - 4s 118us/sample - loss: 0.0234 - accuracy: 0.9924 - val_loss: 0.0998 - val_accuracy: 0.9766\n",
      "Epoch 10/15\n",
      "37000/37000 [==============================] - 5s 125us/sample - loss: 0.0339 - accuracy: 0.9907 - val_loss: 0.0937 - val_accuracy: 0.9784\n",
      "Epoch 11/15\n",
      "37000/37000 [==============================] - 5s 127us/sample - loss: 0.0268 - accuracy: 0.9919 - val_loss: 0.1126 - val_accuracy: 0.9718\n",
      "Epoch 12/15\n",
      "37000/37000 [==============================] - 4s 121us/sample - loss: 0.0260 - accuracy: 0.9926 - val_loss: 0.1135 - val_accuracy: 0.9748\n",
      "Epoch 13/15\n",
      "37000/37000 [==============================] - 4s 119us/sample - loss: 0.0218 - accuracy: 0.9944 - val_loss: 0.1008 - val_accuracy: 0.9788\n",
      "Epoch 14/15\n",
      "37000/37000 [==============================] - 4s 121us/sample - loss: 0.0266 - accuracy: 0.9931 - val_loss: 0.1243 - val_accuracy: 0.9776\n",
      "Epoch 15/15\n",
      "37000/37000 [==============================] - 4s 119us/sample - loss: 0.0178 - accuracy: 0.9948 - val_loss: 0.1306 - val_accuracy: 0.9750\n",
      "5000/5000 [==============================] - 0s 72us/sample - loss: 0.1306 - accuracy: 0.9750\n"
     ]
    },
    {
     "data": {
      "text/plain": [
       "[0.13059550819417892, 0.975]"
      ]
     },
     "execution_count": 6,
     "metadata": {},
     "output_type": "execute_result"
    }
   ],
   "source": [
    "model = keras.Sequential()\n",
    "model.add(keras.layers.Conv2D(input_shape=(28,28,1),filters = 8, kernel_size=(2,2), padding=\"same\"))\n",
    "model.add(keras.layers.MaxPool2D(2,2))\n",
    "model.add(keras.layers.Conv2D(filters = 16, kernel_size=(2,2),padding=\"same\"))\n",
    "model.add(keras.layers.MaxPool2D(2,2))\n",
    "model.add(keras.layers.Flatten())\n",
    "model.add(keras.layers.Dense(units=256,activation = \"relu\"))\n",
    "model.add(keras.layers.Dense(units=64, activation = \"relu\"))\n",
    "model.add(keras.layers.Dense(units=10, activation = \"softmax\"))\n",
    "model.compile(optimizer=\"Adam\", loss = \"categorical_crossentropy\", metrics = [\"accuracy\"])\n",
    "model.fit (train_data,Y_train, epochs=15, validation_data = (val_data,Y_val))\n",
    "model.evaluate(val_data, Y_val)"
   ]
  },
  {
   "cell_type": "code",
   "execution_count": 7,
   "metadata": {},
   "outputs": [
    {
     "name": "stdout",
     "output_type": "stream",
     "text": [
      "Your submission was succesfully saved!\n"
     ]
    }
   ],
   "source": [
    "predictions = model.predict(test_data)\n",
    "predictions = np.argmax(predictions, axis=1)\n",
    "IdRange     = np.arange(1, predictions.shape[0]+1)\n",
    "output = pd.DataFrame({'ImageId':IdRange,'Label':predictions})\n",
    "output.to_csv(\"my_submission.csv\", index=False)\n",
    "print (\"Your submission was succesfully saved!\")"
   ]
  },
  {
   "cell_type": "code",
   "execution_count": null,
   "metadata": {},
   "outputs": [],
   "source": []
  }
 ],
 "metadata": {
  "kernelspec": {
   "display_name": "Python 3",
   "language": "python",
   "name": "python3"
  },
  "language_info": {
   "codemirror_mode": {
    "name": "ipython",
    "version": 3
   },
   "file_extension": ".py",
   "mimetype": "text/x-python",
   "name": "python",
   "nbconvert_exporter": "python",
   "pygments_lexer": "ipython3",
   "version": "3.7.6"
  }
 },
 "nbformat": 4,
 "nbformat_minor": 4
}
