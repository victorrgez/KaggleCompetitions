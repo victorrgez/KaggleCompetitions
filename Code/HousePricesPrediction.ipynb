{
 "cells": [
  {
   "cell_type": "markdown",
   "execution_count": null,
   "metadata": {},
   "source": [
    "#### This dataset is available publicly at https://www.kaggle.com/c/house-prices-advanced-regression-techniques/\n",
    "##### The RMSLE obtained in the competition test set was 0.12611 with ElasticNet and 0.15636 with a Keras Neural Network"
   ]
  },
  {
   "cell_type": "code",
   "execution_count": 1,
   "metadata": {
    "_cell_guid": "b1076dfc-b9ad-4769-8c92-a6c4dae69d19",
    "_uuid": "8f2839f25d086af736a60e9eeb907d3b93b6e0e5"
   },
   "outputs": [],
   "source": [
    "# Import some basic libraries for analysing the data\n",
    "\n",
    "import numpy as np\n",
    "import pandas as pd\n",
    "import os"
   ]
  },
  {
   "cell_type": "code",
   "execution_count": 2,
   "metadata": {
    "_cell_guid": "79c7e3d0-c299-4dcb-8224-4455121ee9b0",
    "_uuid": "d629ff2d2480ee46fbb7e2d37f6b5fab8052498a"
   },
   "outputs": [],
   "source": [
    "# The input file is read and it is splitted into X and Y:\n",
    "\n",
    "train_data = pd.read_csv(\"/kaggle/input/house-prices-advanced-regression-techniques/train.csv\")\n",
    "test_data  = pd.read_csv(\"/kaggle/input/house-prices-advanced-regression-techniques/test.csv\")"
   ]
  },
  {
   "cell_type": "code",
   "execution_count": 3,
   "metadata": {},
   "outputs": [
    {
     "name": "stdout",
     "output_type": "stream",
     "text": [
      "Only the price of a few houses is beyond 500000\n"
     ]
    },
    {
     "data": {
      "image/png": "[encoded data removed]",
      "text/plain": [
       "<Figure size 432x288 with 1 Axes>"
      ]
     },
     "metadata": {
      "needs_background": "light"
     },
     "output_type": "display_data"
    }
   ],
   "source": [
    "# The house price feature is skewed with many cheap houses and just a few expensive ones:\n",
    "\n",
    "Y = train_data[\"SalePrice\"]\n",
    "\n",
    "plt = Y.plot.hist(bins=15)\n",
    "plt.set_title(\"Skewed distribution of House Prices\", fontweight=\"bold\")\n",
    "plt.set_xlabel(\"Price of the House\")\n",
    "plt.set_ylabel(\"Number of Houses\")\n",
    "\n",
    "print(\"Only the price of a few houses is beyond 500000\")"
   ]
  },
  {
   "cell_type": "code",
   "execution_count": 4,
   "metadata": {},
   "outputs": [
    {
     "name": "stdout",
     "output_type": "stream",
     "text": [
      "The number of examples in the train dataset is 1460 and each one has 79 features\n",
      "The number of examples in the test  dataset is 1459 and each one has 79 features\n"
     ]
    }
   ],
   "source": [
    "# For using common linear regression classifiers such as Elastic Net, it is desirable to normalize the price with a log.\n",
    "# Neural networks can learn more complex functions which can more easily adapt to a skewed Y variable.\n",
    "\n",
    "X = train_data.drop([\"SalePrice\",\"Id\"], axis=1)\n",
    "Y =  np.log1p(Y) # Delete this line if using the keras neural network (it was fine-tuned for the skewed version)\n",
    "IdTest = test_data.Id # Saved the id for the output file, but we do not need it for predicting their price\n",
    "test_data = test_data.drop(\"Id\", axis = 1)\n",
    "\n",
    "print (\"The number of examples in the train dataset is\", X.shape[0], \"and each one has\", X.shape[1], \"features\")\n",
    "print (\"The number of examples in the test  dataset is\", test_data.shape[0], \"and each one has\", test_data.shape[1], \"features\")"
   ]
  },
  {
   "cell_type": "markdown",
   "execution_count": null,
   "metadata": {},
   "source": [
    "#### The features of the dataset were analysed and the following conclusions were drawn:"
   ]
  },
  {
   "cell_type": "code",
   "execution_count": 5,
   "metadata": {},
   "outputs": [],
   "source": [
    "# For some categorical columns we just dont have enough data so as the model could learn how each category is related to the price of a house.\n",
    "# This kind of categorical features when splitted into several binary columns were adding noise to the model given that the number of examples we have is limited\n",
    "\n",
    "categoricalFeaturesToBeExcluded= [\"Exterior1st\",\"Exterior2nd\",\"Condition1\",\"Condition2\"]\n",
    "X         = X.drop        (categoricalFeaturesToBeExcluded, axis =1)\n",
    "test_data = test_data.drop(categoricalFeaturesToBeExcluded, axis =1)\n",
    "\n",
    "# There is no point in treating MSSubClass as an INTEGER column, given that a bigger or smaller number doesn't mean more or less value.\n",
    "#it was converted to categorical instead\n",
    "\n",
    "X         [\"MSSubClass\"] = X[\"MSSubClass\"].astype(str)\n",
    "test_data [\"MSSubClass\"] = test_data[\"MSSubClass\"].astype(str)\n",
    "\n",
    "# There are several columns which refer to the quality of some aspect of the house and its value is given as a STRING variable.\n",
    "# It would be desirable to transform the scale from Excellent to Poor into a numerical scale, such as from 5 to 1:\n",
    "\n",
    "fromStringToInt = {\"Ex\":5,\"Gd\":4,\"TA\":3,\"Fa\":2,\"Po\":1,np.nan:0}\n",
    "qualityColumns = [\"ExterQual\",\"ExterCond\",\"BsmtQual\",\"BsmtCond\",\"HeatingQC\",\"KitchenQual\",\"FireplaceQu\",\"GarageQual\",\"GarageCond\",\"PoolQC\"]\n",
    "for column in qualityColumns:\n",
    "    X[column].replace(fromStringToInt, inplace=True)\n",
    "    test_data[column].replace(fromStringToInt, inplace=True)"
   ]
  },
  {
   "cell_type": "code",
   "execution_count": 6,
   "metadata": {},
   "outputs": [],
   "source": [
    "# Some of the columns use a different vocabulary for expressing the quality of a feature.\n",
    "# Therefore, a specific dictionary is needed to convert each feature from String to INTEGER Quality Numbers:\n",
    "\n",
    "fromStringToIntLotShape = {\"Reg\":4,\"IR1\":3,\"IR2\":2,\"IR3\":1,np.nan:0}\n",
    "X[\"LotShape\"].replace(fromStringToIntLotShape, inplace=True)\n",
    "test_data[\"LotShape\"].replace(fromStringToIntLotShape, inplace=True)\n",
    "\n",
    "fromStringToIntUtilities = {\"AllPub\":4,\"NoSewr\":3,\"NoSeWa\":2,\"ELO\":1,np.nan:0}\n",
    "X[\"Utilities\"].replace(fromStringToIntUtilities, inplace=True)\n",
    "test_data[\"Utilities\"].replace(fromStringToIntUtilities, inplace=True)\n",
    "\n",
    "fromStringToIntLandSlope = {\"Gtl\":3,\"Mod\":2,\"Sev\":1,np.nan:0}\n",
    "X[\"LandSlope\"].replace(fromStringToIntLandSlope, inplace=True)\n",
    "test_data[\"LandSlope\"].replace(fromStringToIntLandSlope, inplace=True)\n",
    "\n",
    "fromStringToIntBsmtFinType = {\"GLQ\":6,\"ALQ\":5,\"BLQ\":4,\"Rec\":3,\"LwQ\":2,\"Unf\":1,np.nan:0}\n",
    "X[\"BsmtFinType1\"].replace(fromStringToIntBsmtFinType, inplace=True)\n",
    "test_data[\"BsmtFinType1\"].replace(fromStringToIntBsmtFinType, inplace=True)\n",
    "X[\"BsmtFinType2\"].replace(fromStringToIntBsmtFinType, inplace=True)\n",
    "test_data[\"BsmtFinType2\"].replace(fromStringToIntBsmtFinType, inplace=True)\n",
    "\n",
    "fromStringToIntFunctional = {\"Typ\":8,\"Min1\":7,\"Min2\":6,\"Mod\":5,\"Maj1\":4,\"Maj2\":3,\"Sev\":2,\"Sal\":1,np.nan:0}\n",
    "X[\"Functional\"].replace(fromStringToIntFunctional, inplace=True)\n",
    "test_data[\"Functional\"].replace(fromStringToIntFunctional, inplace=True)\n",
    "\n",
    "fromStringToIntGarageFinish = {\"Fin\":3,\"RFn\":2,\"Unf\":1,np.nan:0}\n",
    "X[\"GarageFinish\"].replace(fromStringToIntGarageFinish, inplace=True)\n",
    "test_data[\"GarageFinish\"].replace(fromStringToIntGarageFinish, inplace=True)\n",
    "\n",
    "fromStringToIntPavedDrive = {\"Y\":3,\"P\":2,\"N\":1,np.nan:0}\n",
    "X[\"PavedDrive\"].replace(fromStringToIntPavedDrive, inplace=True)\n",
    "test_data[\"PavedDrive\"].replace(fromStringToIntPavedDrive, inplace=True)\n",
    "\n",
    "fromStringToIntFence = {\"GdPrv\":4,\"MnPrv\":3,\"GdWo\":2,\"MnWw\":1,np.nan:0}\n",
    "X[\"Fence\"].replace(fromStringToIntFence, inplace=True)\n",
    "test_data[\"Fence\"].replace(fromStringToIntFence, inplace=True)"
   ]
  },
  {
   "cell_type": "code",
   "execution_count": 7,
   "metadata": {},
   "outputs": [
    {
     "name": "stdout",
     "output_type": "stream",
     "text": [
      "The number of examples in the train dataset is 1460 . After dropping and modifying features, each example has 75 features\n",
      "The number of examples in the test  dataset is 1459 . After dropping and modifying features, each example has 75 features\n"
     ]
    }
   ],
   "source": [
    "print (\"The number of examples in the train dataset is\", X.shape[0], \". After dropping and modifying features, each example has\", X.shape[1], \"features\")\n",
    "print (\"The number of examples in the test  dataset is\", test_data.shape[0], \". After dropping and modifying features, each example has\", test_data.shape[1], \"features\")"
   ]
  },
  {
   "cell_type": "code",
   "execution_count": 8,
   "metadata": {},
   "outputs": [
    {
     "name": "stdout",
     "output_type": "stream",
     "text": [
      "There are 22 skewed variables before transforming\n",
      "There are 10 skewed variables after  transforming\n"
     ]
    }
   ],
   "source": [
    "# Before splitting categorical variables into binary columns, let's get only the numerical columns and check which ones are skewed:\n",
    "# The skewed features were transformed using a Log and adding a small number to each row so the log of 0 was never computed.\n",
    "nameOfNumericColumns = X.dtypes[X.dtypes!=\"object\"].index\n",
    "\n",
    "skewedVariables = X[nameOfNumericColumns].skew()\n",
    "print (\"There are\",len([variable for variable in skewedVariables if variable>1]),\"skewed variables before transforming\")\n",
    "for index, value in enumerate (skewedVariables):\n",
    "    if (value > 1):\n",
    "        X[nameOfNumericColumns[index]]         = np.log (X[nameOfNumericColumns[index]]+0.001)\n",
    "        test_data[nameOfNumericColumns[index]] = np.log (test_data[nameOfNumericColumns[index]]+0.001)\n",
    "\n",
    "skewedVariables = X[nameOfNumericColumns].skew()\n",
    "print (\"There are\",len([variable for variable in skewedVariables if variable>1]),\"skewed variables after  transforming\")"
   ]
  },
  {
   "cell_type": "code",
   "execution_count": 9,
   "metadata": {},
   "outputs": [],
   "source": [
    "# All the features with a greater percentage than desired of NaNs are dropped since they will not generalise well:\n",
    "\n",
    "percentageMissingValuesPerColumn = (len(X)-X.count())/len(X)*100\n",
    "maxPercentageDesired = 0.05 # 5%\n",
    "\n",
    "falseTrueColumns = percentageMissingValuesPerColumn > maxPercentageDesired\n",
    "columnIndexesToBeDropped = []\n",
    "\n",
    "for i in range (X.shape[1]):\n",
    "    if (falseTrueColumns[i]): # True means that column has more percentage of NaNs than desired\n",
    "        columnIndexesToBeDropped.append(i)\n",
    "        \n",
    "X_clean = X.drop(X.columns[columnIndexesToBeDropped], axis=1)\n",
    "test_data_clean = test_data.drop(test_data.columns[columnIndexesToBeDropped], axis=1)"
   ]
  },
  {
   "cell_type": "code",
   "execution_count": 10,
   "metadata": {},
   "outputs": [
    {
     "name": "stdout",
     "output_type": "stream",
     "text": [
      "After dropping and splitting, the data contains 164 features.\n"
     ]
    }
   ],
   "source": [
    "# The data is concatenated in order to split categorical columns into binary columns and for calculating the variance within each feature\n",
    "\n",
    "allData = pd.concat([X_clean, test_data_clean])\n",
    "allData_clean = pd.get_dummies(allData)\n",
    "\n",
    "print (\"After dropping and splitting, the data contains\", allData_clean.shape[1], \"features.\")"
   ]
  },
  {
   "cell_type": "code",
   "execution_count": 11,
   "metadata": {},
   "outputs": [
    {
     "name": "stdout",
     "output_type": "stream",
     "text": [
      "After removing low-variance columns, the data contains 118 features.\n"
     ]
    }
   ],
   "source": [
    "# Given that the range of values within each feature is different, we have to consider each column's maximum to check if the variance of each feature is enough to be useful for predicting house prices\n",
    "# All unnecessary features with low variance will result in noise which the model will also try to predict\n",
    "\n",
    "variancePerColumn  = allData_clean.var( axis=0)\n",
    "maximumPerColumn   = allData_clean.max( axis=0)\n",
    "\n",
    "columnsWorthKeeping = []\n",
    "\n",
    "for i in range (len (variancePerColumn)):\n",
    "     if ((variancePerColumn[i]/maximumPerColumn[i])> 0.01):\n",
    "        columnsWorthKeeping.append(i)\n",
    "        \n",
    "allData_clean = allData_clean.iloc[:,columnsWorthKeeping]\n",
    "\n",
    "print (\"After removing low-variance columns, the data contains\", allData_clean.shape[1], \"features.\")"
   ]
  },
  {
   "cell_type": "code",
   "execution_count": 12,
   "metadata": {},
   "outputs": [
    {
     "name": "stdout",
     "output_type": "stream",
     "text": [
      "The number of examples in the train dataset is 1460 . Each example has 118 features\n",
      "The number of examples in the test  dataset is 1459 . Each example has 118 features\n"
     ]
    }
   ],
   "source": [
    "# The following step was to input missing values in the data. The mean of each feature was calculated:\n",
    "\n",
    "mean = np.mean (allData_clean) # Contains the mean of each feature\n",
    "\n",
    "allData_clean = np.array(allData_clean.values) # Converts the dataframe to a numpy array\n",
    "\n",
    "\n",
    "for i in range (allData_clean.shape[0]):\n",
    "    for j in range (allData_clean.shape[1]):\n",
    "        if (np.isnan(allData_clean[i][j])):\n",
    "            allData_clean[i][j] = mean[j]\n",
    "\n",
    "# Splitting the agregated data into training and test data again:\n",
    "\n",
    "X_clean = allData_clean[:1460]\n",
    "test_data_clean = allData_clean[1460:]\n",
    "\n",
    "print (\"The number of examples in the train dataset is\", X_clean.shape[0], \". Each example has\", X_clean.shape[1], \"features\")\n",
    "print (\"The number of examples in the test  dataset is\", test_data_clean.shape[0], \". Each example has\", test_data_clean.shape[1], \"features\")\n"
   ]
  },
  {
   "cell_type": "code",
   "execution_count": 13,
   "metadata": {},
   "outputs": [
    {
     "name": "stdout",
     "output_type": "stream",
     "text": [
      "Out of 1460 examples, 1200 houses were included in the training set and 260 in the validation set\n",
      "The shape of Y_train and Y_val is also correct: 1200 / 260\n"
     ]
    }
   ],
   "source": [
    "# Split the X_clean data into train and validation sets. There are 1460 examples so 1200 / 260 seems reasonable:\n",
    "\n",
    "random_list = np.random.permutation(1460)\n",
    "cuttingNumber = 1200\n",
    "\n",
    "X_clean = np.array(X_clean)\n",
    "X_train = X_clean [random_list[:cuttingNumber]]\n",
    "Y_train = Y       [random_list[:cuttingNumber]]\n",
    "X_val   = X_clean [random_list[cuttingNumber:]]\n",
    "Y_val   = Y       [random_list[cuttingNumber:]]\n",
    "test_data_clean = np.array(test_data_clean)\n",
    "\n",
    "print (\"Out of\", X_clean.shape[0],\"examples,\", X_train.shape[0], \"houses were included in the training set and\", X_val.shape[0],\"in the validation set\")\n",
    "print (\"The shape of Y_train and Y_val is also correct:\",Y_train.shape[0],\"/\",Y_val.shape[0])"
   ]
  },
  {
   "cell_type": "markdown",
   "execution_count": null,
   "metadata": {},
   "source": [
    "### Any model needs the distribution of data to be the same in the training, validation and test sets. This was checked using a PCA:"
   ]
  },
  {
   "cell_type": "code",
   "execution_count": 14,
   "metadata": {},
   "outputs": [
    {
     "data": {
      "image/png": "[encoded data removed]",
      "text/plain": [
       "<Figure size 432x288 with 1 Axes>"
      ]
     },
     "metadata": {
      "needs_background": "light"
     },
     "output_type": "display_data"
    }
   ],
   "source": [
    "from sklearn.decomposition import PCA\n",
    "import matplotlib.pyplot as plt\n",
    "\n",
    "pca = PCA (n_components=2)\n",
    "\n",
    "concat = np.concatenate((X_train,X_val,test_data_clean),axis=0)\n",
    "pca.fit(concat)\n",
    "\n",
    "trainPoints = pca.transform(X_train)\n",
    "valPoints = pca.transform(X_val)\n",
    "testPoints = pca.transform (test_data_clean)\n",
    "\n",
    "plt.plot(trainPoints[:,0], trainPoints[:,1], c=\"red\")\n",
    "plt.plot(valPoints[:,0], valPoints[:,1], c=\"green\")\n",
    "plt.plot(testPoints[:,0], testPoints[:,1], c=\"blue\")\n",
    "\n",
    "plt.title (\"PCA: All three datasets belong to the same distribution\", fontweight=\"bold\")\n",
    "plt.xlabel(\"PCA 1\")\n",
    "plt.ylabel(\"PCA 2\")\n",
    "plt.legend([\"Training Points\",\"Validation Points\",\"Test Points\"])\n",
    "plt.show()"
   ]
  },
  {
   "cell_type": "code",
   "execution_count": 15,
   "metadata": {},
   "outputs": [
    {
     "name": "stdout",
     "output_type": "stream",
     "text": [
      "This setup has detected 13 outliers.\n",
      "The number of examples the model will be trained on is: 1187\n"
     ]
    }
   ],
   "source": [
    "# It is also important to remove outliers in order not to overfit the model on them.\n",
    "# The tool DBScan was tuned to remove around 12 outliers (~1% of the data)\n",
    "# The object returned is an array which contains \"-1\" in the indexes of the outliers.\n",
    "\n",
    "from sklearn.cluster import DBSCAN\n",
    "outlier_detection = DBSCAN(eps=300, min_samples=3)\n",
    "clusters = outlier_detection.fit_predict(X_train)\n",
    "\n",
    "print (\"This setup has detected\",(sum(clusters == -1)),\"outliers.\")\n",
    "\n",
    "X_train_noOutliers = X_train[clusters!=-1]\n",
    "Y_train_noOutliers = Y_train[clusters!=-1]\n",
    "\n",
    "print (\"The number of examples the model will be trained on is:\", len(X_train_noOutliers))"
   ]
  },
  {
   "cell_type": "markdown",
   "execution_count": null,
   "metadata": {},
   "source": [
    "### The model that obtained better result was ElasticNet. This model uses both L1 and L2 regularization and their relative importance is stated in the \"l1_ratio\" variable.\n",
    "#### Grid Search was used to tune and obtain the best parameters"
   ]
  },
  {
   "cell_type": "code",
   "execution_count": 16,
   "metadata": {},
   "outputs": [
    {
     "name": "stdout",
     "output_type": "stream",
     "text": [
      "Elastic score: 0.12621027532082357\n"
     ]
    }
   ],
   "source": [
    "from sklearn.linear_model import ElasticNet\n",
    "from sklearn.model_selection import GridSearchCV\n",
    "\n",
    "import warnings #This tool will always throw ConvergenceWarnings unless you leave the model running (and probably overfitting) for a long time\n",
    "from sklearn.exceptions import ConvergenceWarning\n",
    "warnings.filterwarnings(\"ignore\", category=ConvergenceWarning)\n",
    "\n",
    "elastic = ElasticNet(random_state=1, max_iter=1000)\n",
    "param = {'l1_ratio' : [0],\n",
    "             'alpha' : [0.02]} # Parameters to be tuned\n",
    "\n",
    "elastic = GridSearchCV(elastic, param, cv=5, scoring='neg_mean_squared_error')\n",
    "elastic.fit(X_train_noOutliers,Y_train_noOutliers)\n",
    "print('Elastic score:', np.sqrt(elastic.best_score_*-1))"
   ]
  },
  {
   "cell_type": "code",
   "execution_count": 17,
   "metadata": {},
   "outputs": [
    {
     "name": "stdout",
     "output_type": "stream",
     "text": [
      "Your submission was succesfully saved!\n"
     ]
    }
   ],
   "source": [
    "# The predictions given by this algorithm have to be exponentiated again (remember the house prices were logged at the start!):\n",
    "\n",
    "predictions = elastic.predict(test_data_clean)\n",
    "predictions = np.expm1(predictions)\n",
    "output = pd.DataFrame({'Id':IdTest,'SalePrice':predictions})\n",
    "output.to_csv(\"my_submission.csv\", index=False)\n",
    "print (\"Your submission was succesfully saved!\")"
   ]
  },
  {
   "cell_type": "markdown",
   "execution_count": null,
   "metadata": {},
   "source": [
    "##### Down belown, the neural network has been commented out. The score obtained in the test set was 0.15646 whereas ElasticNet obtained a smaller RSMLE: 0.12611"
   ]
  },
  {
   "cell_type": "code",
   "execution_count": 18,
   "metadata": {},
   "outputs": [
    {
     "data": {
      "text/plain": [
       "'\\nimport tensorflow as tf\\nfrom tensorflow import keras\\ndef rmsle_error(y_true, y_pred): # Custom loss is used for RMSLE\\n    return tf.math.sqrt(keras.losses.MSLE(y_true, y_pred))\\n'"
      ]
     },
     "execution_count": 18,
     "metadata": {},
     "output_type": "execute_result"
    }
   ],
   "source": [
    "\"\"\"\n",
    "import tensorflow as tf\n",
    "from tensorflow import keras\n",
    "def rmsle_error(y_true, y_pred): # Custom loss is used for RMSLE\n",
    "    return tf.math.sqrt(keras.losses.MSLE(y_true, y_pred))\n",
    "\"\"\""
   ]
  },
  {
   "cell_type": "code",
   "execution_count": 19,
   "metadata": {},
   "outputs": [
    {
     "data": {
      "text/plain": [
       "'\\n# Sometimes the model gets stuck because of a local optima around 12. Other times the gradients exploit and the model returns Nan.\\n# In both these cases we have to restart the model:\\n\\ninitialLoss = 100\\nfinalLoss = np.nan\\nrestartingCallback = keras.callbacks.EarlyStopping(baseline = 8,patience=20,min_delta=0.0001)\\n# This callback spots those times when the model gets stuck in the first epoch\\n\\nwhile (initialLoss > 8 or (not finalLoss > 0)):\\n    model = keras.Sequential()\\n    model.add(keras.layers.Dense(units=100, activation = \"relu\", input_shape = [X_train.shape[1],],kernel_initializer=keras.initializers.GlorotNormal()))\\n    model.add(keras.layers.Dense(units=75, activation = \"relu\",kernel_initializer=keras.initializers.GlorotNormal()))\\n    model.add(keras.layers.Dense(units=50, activation = \"relu\",kernel_initializer=keras.initializers.GlorotNormal()))\\n    model.add(keras.layers.Dense(units=25, activation = \"relu\",kernel_initializer=keras.initializers.GlorotNormal()))\\n    model.add(keras.layers.Dense(units=15, activation = \"relu\",kernel_initializer=keras.initializers.GlorotNormal()))\\n    model.add(keras.layers.Dense(units=1,  activation = \"relu\",kernel_initializer=keras.initializers.GlorotNormal))\\n    model.compile(optimizer = keras.optimizers.Adam(lr=0.0003), loss = rmsle_error)\\n    history = model.fit (X_train, Y_train, batch_size=16, epochs = 400, callbacks=[restartingCallback], verbose=1, validation_data = (X_val,Y_val))\\n    initialLoss = history.history[\"loss\"][0]\\n    finalLoss = history.history[\"loss\"][-1]\\n    print (model.evaluate(X_val, Y_val))\\n'"
      ]
     },
     "execution_count": 19,
     "metadata": {},
     "output_type": "execute_result"
    }
   ],
   "source": [
    "\"\"\"\n",
    "# Sometimes the model gets stuck because of a local optima around 12. Other times the gradients exploit and the model returns Nan.\n",
    "# In both these cases we have to restart the model:\n",
    "\n",
    "initialLoss = 100\n",
    "finalLoss = np.nan\n",
    "restartingCallback = keras.callbacks.EarlyStopping(baseline = 8,patience=20,min_delta=0.0001)\n",
    "# This callback spots those times when the model gets stuck in the first epoch\n",
    "\n",
    "while (initialLoss > 8 or (not finalLoss > 0)):\n",
    "    model = keras.Sequential()\n",
    "    model.add(keras.layers.Dense(units=100, activation = \"relu\", input_shape = [X_train.shape[1],],kernel_initializer=keras.initializers.GlorotNormal()))\n",
    "    model.add(keras.layers.Dense(units=75, activation = \"relu\",kernel_initializer=keras.initializers.GlorotNormal()))\n",
    "    model.add(keras.layers.Dense(units=50, activation = \"relu\",kernel_initializer=keras.initializers.GlorotNormal()))\n",
    "    model.add(keras.layers.Dense(units=25, activation = \"relu\",kernel_initializer=keras.initializers.GlorotNormal()))\n",
    "    model.add(keras.layers.Dense(units=15, activation = \"relu\",kernel_initializer=keras.initializers.GlorotNormal()))\n",
    "    model.add(keras.layers.Dense(units=1,  activation = \"relu\",kernel_initializer=keras.initializers.GlorotNormal))\n",
    "    model.compile(optimizer = keras.optimizers.Adam(lr=0.0003), loss = rmsle_error)\n",
    "    history = model.fit (X_train, Y_train, batch_size=16, epochs = 400, callbacks=[restartingCallback], verbose=1, validation_data = (X_val,Y_val))\n",
    "    initialLoss = history.history[\"loss\"][0]\n",
    "    finalLoss = history.history[\"loss\"][-1]\n",
    "    print (model.evaluate(X_val, Y_val))\n",
    "\"\"\""
   ]
  },
  {
   "cell_type": "code",
   "execution_count": 20,
   "metadata": {},
   "outputs": [
    {
     "data": {
      "text/plain": [
       "'\\npredictions = np.squeeze(model.predict(test_data_clean), axis=1)\\noutput = pd.DataFrame({\\'Id\\':IdTest,\\'SalePrice\\':predictions})\\noutput.to_csv(\"my_submission.csv\", index=False)\\nprint (\"Your submission was succesfully saved!\")\\n'"
      ]
     },
     "execution_count": 20,
     "metadata": {},
     "output_type": "execute_result"
    }
   ],
   "source": [
    "\"\"\"\n",
    "predictions = np.squeeze(model.predict(test_data_clean), axis=1)\n",
    "output = pd.DataFrame({'Id':IdTest,'SalePrice':predictions})\n",
    "output.to_csv(\"my_submission.csv\", index=False)\n",
    "print (\"Your submission was succesfully saved!\")\n",
    "\"\"\""
   ]
  },
  {
   "cell_type": "code",
   "execution_count": null,
   "metadata": {},
   "outputs": [],
   "source": []
  }
 ],
 "metadata": {
  "kernelspec": {
   "display_name": "Python 3",
   "language": "python",
   "name": "python3"
  },
  "language_info": {
   "codemirror_mode": {
    "name": "ipython",
    "version": 3
   },
   "file_extension": ".py",
   "mimetype": "text/x-python",
   "name": "python",
   "nbconvert_exporter": "python",
   "pygments_lexer": "ipython3",
   "version": "3.7.6"
  }
 },
 "nbformat": 4,
 "nbformat_minor": 4
}
