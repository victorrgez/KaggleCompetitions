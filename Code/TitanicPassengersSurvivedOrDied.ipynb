{
 "cells": [
  {
   "cell_type": "markdown",
   "metadata": {},
   "source": [
    "## This dataset is available publicly on https://www.kaggle.com/c/titanic\n",
    "### After submitting this notebook, the test dataset accuracy was above 0.78"
   ]
  },
  {
   "cell_type": "code",
   "execution_count": 1,
   "metadata": {
    "_cell_guid": "b1076dfc-b9ad-4769-8c92-a6c4dae69d19",
    "_uuid": "8f2839f25d086af736a60e9eeb907d3b93b6e0e5"
   },
   "outputs": [
    {
     "data": {
      "text/plain": [
       "'\\n# Input data files are available in the read-only \"../input/\" directory\\n# For example, running this will list all files under the input directory:\\n\\n\\nfor dirname, _, filenames in os.walk(\\'/kaggle/input\\'):\\n    for filename in filenames:\\n        print(os.path.join(dirname, filename))\\n'"
      ]
     },
     "execution_count": 1,
     "metadata": {},
     "output_type": "execute_result"
    }
   ],
   "source": [
    "%matplotlib inline\n",
    "import matplotlib.pyplot as plt\n",
    "import numpy as np\n",
    "import pandas as pd\n",
    "import os\n",
    "\"\"\"\n",
    "# Input data files are available in the read-only \"../input/\" directory\n",
    "# For example, running this will list all files under the input directory:\n",
    "\n",
    "\n",
    "for dirname, _, filenames in os.walk('/kaggle/input'):\n",
    "    for filename in filenames:\n",
    "        print(os.path.join(dirname, filename))\n",
    "\"\"\""
   ]
  },
  {
   "cell_type": "markdown",
   "metadata": {},
   "source": [
    "#### First, the input file is read and a new column is added.\n",
    "\n",
    "#### The number of Siblings/Spouses (\"SibSp\") and the number of Parents/Children (\"Parch\") are merged together into the \"Family\" column to know the number of relatives who could potentially have helped them save their life:"
   ]
  },
  {
   "cell_type": "code",
   "execution_count": 2,
   "metadata": {
    "_cell_guid": "79c7e3d0-c299-4dcb-8224-4455121ee9b0",
    "_uuid": "d629ff2d2480ee46fbb7e2d37f6b5fab8052498a"
   },
   "outputs": [
    {
     "name": "stdout",
     "output_type": "stream",
     "text": [
      "   PassengerId  Survived  Pclass  \\\n",
      "0            1         0       3   \n",
      "1            2         1       1   \n",
      "2            3         1       3   \n",
      "3            4         1       1   \n",
      "4            5         0       3   \n",
      "\n",
      "                                                Name     Sex   Age  SibSp  \\\n",
      "0                            Braund, Mr. Owen Harris    male  22.0      1   \n",
      "1  Cumings, Mrs. John Bradley (Florence Briggs Th...  female  38.0      1   \n",
      "2                             Heikkinen, Miss. Laina  female  26.0      0   \n",
      "3       Futrelle, Mrs. Jacques Heath (Lily May Peel)  female  35.0      1   \n",
      "4                           Allen, Mr. William Henry    male  35.0      0   \n",
      "\n",
      "   Parch            Ticket     Fare Cabin Embarked  Family  \n",
      "0      0         A/5 21171   7.2500   NaN        S       1  \n",
      "1      0          PC 17599  71.2833   C85        C       1  \n",
      "2      0  STON/O2. 3101282   7.9250   NaN        S       0  \n",
      "3      0            113803  53.1000  C123        S       1  \n",
      "4      0            373450   8.0500   NaN        S       0  \n"
     ]
    }
   ],
   "source": [
    "train_data = pd.read_csv (\"/kaggle/input/titanic/train.csv\")\n",
    "train_data [\"Family\"] = train_data [\"Parch\"] + train_data [\"SibSp\"]\n",
    "print (train_data.head()) # Show us the structured of the dataframe\n",
    "test_data = pd.read_csv (\"/kaggle/input/titanic/test.csv\")\n",
    "test_data [\"Family\"] = test_data [\"Parch\"] + test_data [\"SibSp\"]\n",
    "#test_data.head()"
   ]
  },
  {
   "cell_type": "markdown",
   "metadata": {},
   "source": [
    "## Let's explore the data to check if these features are related to whether a person died or not."
   ]
  },
  {
   "cell_type": "code",
   "execution_count": 3,
   "metadata": {},
   "outputs": [
    {
     "data": {
      "image/png": "[encoded data removed]",
      "text/plain": [
       "<Figure size 432x288 with 1 Axes>"
      ]
     },
     "metadata": {
      "needs_background": "light"
     },
     "output_type": "display_data"
    }
   ],
   "source": [
    "numberOfDeadMen    = len(train_data[(train_data.Sex == \"male\") & (train_data.Survived == 0)])\n",
    "numberOfAliveMen   = len(train_data[(train_data.Sex == \"male\") & (train_data.Survived == 1)])\n",
    "numberOfDeadWomen  = len(train_data[(train_data.Sex == \"female\") & (train_data.Survived == 0)])\n",
    "numberOfAliveWomen = len(train_data[(train_data.Sex == \"female\") & (train_data.Survived == 1)])\n",
    "numberOfMen = len(train_data[train_data.Sex ==\"male\"])\n",
    "numberOfWomen = len(train_data[train_data.Sex ==\"female\"])\n",
    "\n",
    "plt.barh([\"Total Men\",\"Total Women\",\"\",\"Dead Men\",\"Alive Men\",\"Dead Women\",\"Alive Women\"],[numberOfMen,numberOfWomen,0,numberOfDeadMen, numberOfAliveMen, numberOfDeadWomen,numberOfAliveWomen], color = [\"blue\",\"red\",\"red\",\"black\",\"green\",\"black\",\"green\"])\n",
    "plt.xlabel(\"Number of People\")\n",
    "plt.title(\"Influence of Sex on Survival Rate\", fontweight=\"bold\")\n",
    "plt.show()"
   ]
  },
  {
   "cell_type": "code",
   "execution_count": 4,
   "metadata": {},
   "outputs": [
    {
     "data": {
      "image/png": "[encoded data removed]",
      "text/plain": [
       "<Figure size 432x288 with 1 Axes>"
      ]
     },
     "metadata": {
      "needs_background": "light"
     },
     "output_type": "display_data"
    }
   ],
   "source": [
    "numberOfDead1stClass    = len(train_data[(train_data.Pclass == 1) & (train_data.Survived == 0)])\n",
    "numberOfDead2ndClass    = len(train_data[(train_data.Pclass == 2) & (train_data.Survived == 0)])\n",
    "numberOfDead3rdClass    = len(train_data[(train_data.Pclass == 3) & (train_data.Survived == 0)])\n",
    "numberOfAlive1stClass    = len(train_data[(train_data.Pclass == 1) & (train_data.Survived == 1)])\n",
    "numberOfAlive2ndClass    = len(train_data[(train_data.Pclass == 2) & (train_data.Survived == 1)])\n",
    "numberOfAlive3rdClass    = len(train_data[(train_data.Pclass == 3) & (train_data.Survived == 1)])\n",
    "\n",
    "survivalRate1stClass = numberOfAlive1stClass / (numberOfDead1stClass + numberOfAlive1stClass) * 100\n",
    "survivalRate2ndClass = numberOfAlive2ndClass / (numberOfDead2ndClass + numberOfAlive2ndClass) * 100\n",
    "survivalRate3rdClass = numberOfAlive3rdClass / (numberOfDead3rdClass + numberOfAlive3rdClass) * 100\n",
    "\n",
    "plt.barh([\"3rd Class\",\"2nd Class\",\"1stClass\"],[survivalRate3rdClass,survivalRate2ndClass,survivalRate1stClass], color = [\"red\",\"orange\",\"green\"])\n",
    "plt.xlabel(\"Survival Rate (%)\")\n",
    "plt.title(\"Influence of Priority Class on Survival Rate\", fontweight=\"bold\")\n",
    "plt.show()"
   ]
  },
  {
   "cell_type": "code",
   "execution_count": 5,
   "metadata": {},
   "outputs": [
    {
     "data": {
      "image/png": "[encoded data removed]",
      "text/plain": [
       "<Figure size 432x288 with 1 Axes>"
      ]
     },
     "metadata": {
      "needs_background": "light"
     },
     "output_type": "display_data"
    }
   ],
   "source": [
    "numberOfDeadC     = len(train_data[(train_data.Embarked == \"C\") & (train_data.Survived == 0)])\n",
    "numberOfDeadQ     = len(train_data[(train_data.Embarked == \"Q\") & (train_data.Survived == 0)])\n",
    "numberOfDeadS     = len(train_data[(train_data.Embarked == \"S\") & (train_data.Survived == 0)])\n",
    "numberOfAliveC    = len(train_data[(train_data.Embarked == \"C\") & (train_data.Survived == 1)])\n",
    "numberOfAliveQ    = len(train_data[(train_data.Embarked == \"Q\") & (train_data.Survived == 1)])\n",
    "numberOfAliveS    = len(train_data[(train_data.Embarked == \"S\") & (train_data.Survived == 1)])\n",
    "\n",
    "survivalRateC = numberOfAliveC / (numberOfDeadC + numberOfAliveC) * 100\n",
    "survivalRateQ = numberOfAliveQ / (numberOfDeadQ + numberOfAliveQ) * 100\n",
    "survivalRateS = numberOfAliveS / (numberOfDeadS + numberOfAliveS) * 100\n",
    "\n",
    "plt.barh([\"Southampton\",\"Queenstown\",\"Cherbourg\"],[survivalRateS,survivalRateQ,survivalRateC], color = [\"crimson\",\"lawngreen\",\"cyan\"])\n",
    "plt.xlabel(\"Survival Rate (%)\")\n",
    "plt.title(\"Influence of 'Embarked' City on Survival Rate\", fontweight=\"bold\")\n",
    "plt.show()"
   ]
  },
  {
   "cell_type": "markdown",
   "metadata": {},
   "source": [
    "### Finally the number Of NaN per feature was computed to check if any column should be dropped from the analysis"
   ]
  },
  {
   "cell_type": "code",
   "execution_count": 6,
   "metadata": {},
   "outputs": [
    {
     "data": {
      "image/png": "[encoded data removed]",
      "text/plain": [
       "<Figure size 1080x360 with 1 Axes>"
      ]
     },
     "metadata": {
      "needs_background": "light"
     },
     "output_type": "display_data"
    }
   ],
   "source": [
    "percentageOfMissingValues = (891-train_data.count()) / 891 * 100\n",
    "plt.figure(figsize=(15,5))\n",
    "plt.bar(train_data.columns,percentageOfMissingValues)\n",
    "plt.xlabel(\"Feature name\")\n",
    "plt.ylabel(\"Missing Values (%)\")\n",
    "plt.title(\"Number of NaN per category\", fontweight=\"bold\")\n",
    "plt.show()"
   ]
  },
  {
   "cell_type": "markdown",
   "metadata": {},
   "source": [
    "### Although sophisticated features, such as the percentage of relatives who died/survived, would be useful (given that families were likely trying to escape and survive together), this type of features will never be available when predicting the future and thus, should never be used as an input for a predictive model."
   ]
  },
  {
   "cell_type": "code",
   "execution_count": 7,
   "metadata": {},
   "outputs": [],
   "source": [
    "# Now, the \"Survived\" column is dropped from X and it is saved in the variable Y:\n",
    "\n",
    "Y = train_data[\"Survived\"]\n",
    "\n",
    "# The \"ticket\" and \"name\" columns are not involved in the survival rate.\n",
    "# The cabin feature has a lot of NaN so it is not worth including\n",
    "# The city in which a person embarked should not be important; \n",
    "# however, the previous graph showed a statistical difference in the survival rate for each city\n",
    "\n",
    "features = [\"Pclass\", \"Sex\",\"Age\", \"Fare\",\"Family\", \"Embarked\"]\n",
    "\n",
    "# With get_dummies, the sex column is divided into sex_male and sex_female. The \"embarked\" feature is splitted into 3 (\"S\", \"Q\" and \"C\")\n",
    "# Also, the priority-class column was expressed as two binary columns: one that states whether that person is at least second class,\n",
    "#and another one which says whether that person is first class. This way, the model will learn that having a 1 in both of these columns\n",
    "#has a positive impact in the survival rate. If we had used get_dummies for this feature, 1st class people would have had a 0 in the \"2nd class\" column.\n",
    "\n",
    "X = pd.get_dummies(train_data[features])\n",
    "X[\"FirstClass\"] = (X[\"Pclass\"] == 1)*1\n",
    "X[\"SecondClass\"] = (X[\"Pclass\"] == 2)*1\n",
    "X[\"FirstOrSecond\"] = ((X[\"FirstClass\"] + X[\"SecondClass\"])>0)*1\n",
    "X[\"SecondClass\"]\n",
    "del X[\"SecondClass\"]\n",
    "del X[\"Pclass\"]\n",
    "X = np.array(X.values)\n",
    "X_test = pd.get_dummies(test_data[features])\n",
    "X_test[\"FirstClass\"] = (X_test[\"Pclass\"] == 1)*1\n",
    "X_test[\"SecondClass\"] = (X_test[\"Pclass\"] == 2)*1\n",
    "X_test[\"FirstOrSecond\"] = ((X_test[\"FirstClass\"] + X_test[\"SecondClass\"])>0)*1\n",
    "del X_test[\"SecondClass\"]\n",
    "del X_test[\"Pclass\"]\n",
    "X_test = np.array(X_test.values)\n",
    "\n",
    "# Column names in order: Age Fare Family Sex_female Sex_male Embarked_C, Embarked_Q Embarked_S FirstClass FirstOrSecond\n",
    "\n",
    "# The mean of every column is calculated here for imputting missing values:\n",
    "mean = np.mean(X, axis=0)\n",
    "\n",
    "\n",
    "# Age has empty values and the mean is therefore returned as NaN. We'll proceed to compute it with a few lines of code:\n",
    "\n",
    "peopleWithValidAge = 0\n",
    "totalAge = 0\n",
    "for x in range (X.shape[0]): #X.shape[0] is the number of rows\n",
    "    if (not np.isnan(X[x][0])): #The column [0] contains the age\n",
    "        peopleWithValidAge += 1\n",
    "        totalAge += X[x][0]\n",
    "ageMean = totalAge / peopleWithValidAge\n",
    "mean[0] = ageMean\n",
    "\n",
    "\n",
    "#Both X_train and X_test datasets are treated the same. However, the mean is computed using only the X data:\n",
    "\n",
    "for x in range (X.shape[0]):\n",
    "    for y in range (X.shape[1]):\n",
    "        if (np.isnan(X[x][y])):\n",
    "            X[x][y] = mean[y]\n",
    "for x in range (X_test.shape[0]):\n",
    "    for y in range (X_test.shape[1]):\n",
    "        if (np.isnan(X_test[x][y])):\n",
    "            X_test[x][y] = mean[y]"
   ]
  },
  {
   "cell_type": "code",
   "execution_count": 8,
   "metadata": {},
   "outputs": [],
   "source": [
    "# The train dataset is randomly splitted into training and validation (700 and 191 people each):\n",
    "\n",
    "random_list = np.random.permutation(891)\n",
    "X_train = X[random_list[:700]]\n",
    "Y_train = Y[random_list[:700]]\n",
    "X_val = X[random_list[700:]]\n",
    "Y_val = Y[random_list[700:]]"
   ]
  },
  {
   "cell_type": "code",
   "execution_count": 9,
   "metadata": {},
   "outputs": [
    {
     "name": "stdout",
     "output_type": "stream",
     "text": [
      "0.8115183246073299\n",
      "Your submission was successfully saved!\n"
     ]
    }
   ],
   "source": [
    "# A random forest classifier with a maximum depth of 6 is specified, so as not to overfit with a greater depth:\n",
    "\n",
    "from sklearn.ensemble import RandomForestClassifier as rfc\n",
    "clf = rfc(max_depth=5)\n",
    "clf.fit (X_train,Y_train)\n",
    "print (\"The score on the validation set is :\" + clf.score(X_val,Y_val))\n",
    "predictions = clf.predict (X_test)\n",
    "output = pd.DataFrame({'PassengerId': test_data.PassengerId, 'Survived': predictions})\n",
    "output.to_csv('my_submission.csv', index=False)\n",
    "print(\"Your submission was successfully saved!\")"
   ]
  },
  {
   "cell_type": "markdown",
   "metadata": {},
   "source": [
    "### Support Vector Machines (SVM) and Neural Networks (NN) obtained worse results and therefore were discarded"
   ]
  },
  {
   "cell_type": "code",
   "execution_count": 10,
   "metadata": {},
   "outputs": [
    {
     "data": {
      "text/plain": [
       "'\\nfrom tensorflow import keras\\nmodel = keras.Sequential()\\nmodel.add (keras.layers.Dense(units=30, activation = \"relu\", input_shape=[7]))\\nmodel.add (keras.layers.Dense(units=20, activation = \"relu\"))\\nmodel.add (keras.layers.Dense(units=10, activation = \"relu\"))\\nmodel.add (keras.layers.Dense(units=1, activation = \"sigmoid\"))\\nmodel.compile(keras.optimizers.Adam(lr= 0.001), loss = \"binary_crossentropy\", metrics = [\"binary_accuracy\"])\\nhistory = model.fit(X, Y, batch_size = 32, epochs = 25, verbose = 2)\\nloss = history.history[\"loss\"][-1]\\npredictions = np.squeeze(model.predict(X_test), axis=1)\\npredictions = (predictions>0.5).astype(int)\\noutput = pd.DataFrame({\\'PassengerId\\': test_data.PassengerId, \\'Survived\\': predictions})\\noutput.to_csv(\\'my_submission.csv\\', index=False)\\nprint(\"Your submission was successfully saved!\")\\n'"
      ]
     },
     "execution_count": 10,
     "metadata": {},
     "output_type": "execute_result"
    }
   ],
   "source": [
    "\"\"\"\n",
    "from tensorflow import keras\n",
    "model = keras.Sequential()\n",
    "model.add (keras.layers.Dense(units=30, activation = \"relu\", input_shape=[7]))\n",
    "model.add (keras.layers.Dense(units=20, activation = \"relu\"))\n",
    "model.add (keras.layers.Dense(units=10, activation = \"relu\"))\n",
    "model.add (keras.layers.Dense(units=1, activation = \"sigmoid\"))\n",
    "model.compile(keras.optimizers.Adam(lr= 0.001), loss = \"binary_crossentropy\", metrics = [\"binary_accuracy\"])\n",
    "history = model.fit(X, Y, batch_size = 32, epochs = 25, verbose = 2)\n",
    "loss = history.history[\"loss\"][-1]\n",
    "predictions = np.squeeze(model.predict(X_test), axis=1)\n",
    "predictions = (predictions>0.5).astype(int)\n",
    "output = pd.DataFrame({'PassengerId': test_data.PassengerId, 'Survived': predictions})\n",
    "output.to_csv('my_submission.csv', index=False)\n",
    "print(\"Your submission was successfully saved!\")\n",
    "\"\"\""
   ]
  },
  {
   "cell_type": "code",
   "execution_count": 11,
   "metadata": {},
   "outputs": [
    {
     "data": {
      "text/plain": [
       "'\\nfrom sklearn import svm\\nclf = svm.SVC()\\nclf=clf.fit(X, Y)\\npredictions = clf.predict(X_test)\\noutput = pd.DataFrame({\\'PassengerId\\': test_data.PassengerId, \\'Survived\\': predictions})\\noutput.to_csv(\\'my_submission.csv\\', index=False)\\nprint(\"Your submission was successfully saved!\")\\n'"
      ]
     },
     "execution_count": 11,
     "metadata": {},
     "output_type": "execute_result"
    }
   ],
   "source": [
    "\"\"\"\n",
    "from sklearn import svm\n",
    "clf = svm.SVC()\n",
    "clf=clf.fit(X, Y)\n",
    "predictions = clf.predict(X_test)\n",
    "output = pd.DataFrame({'PassengerId': test_data.PassengerId, 'Survived': predictions})\n",
    "output.to_csv('my_submission.csv', index=False)\n",
    "print(\"Your submission was successfully saved!\")\n",
    "\"\"\""
   ]
  }
 ],
 "metadata": {
  "kernelspec": {
   "display_name": "Python 3",
   "language": "python",
   "name": "python3"
  },
  "language_info": {
   "codemirror_mode": {
    "name": "ipython",
    "version": 3
   },
   "file_extension": ".py",
   "mimetype": "text/x-python",
   "name": "python",
   "nbconvert_exporter": "python",
   "pygments_lexer": "ipython3",
   "version": "3.7.6"
  }
 },
 "nbformat": 4,
 "nbformat_minor": 4
}
